{
 "cells": [
  {
   "cell_type": "code",
   "execution_count": 1,
   "metadata": {},
   "outputs": [],
   "source": [
    "class Node:\n",
    "    def __init__(self, key):\n",
    "        self.left = None\n",
    "        self.right = None\n",
    "        self.val = key\n",
    "\n",
    "class BinarySearchTree:\n",
    "    def __init__(self):\n",
    "        self.root = None\n",
    "\n",
    "    def insert(self, key):\n",
    "        if self.root is None:\n",
    "            self.root = Node(key)\n",
    "        else:\n",
    "            self._insert_recursive(self.root, key)\n",
    "\n",
    "    def _insert_recursive(self, node, key):\n",
    "        if key < node.val:\n",
    "            if node.left is None:\n",
    "                node.left = Node(key)\n",
    "            else:\n",
    "                self._insert_recursive(node.left, key)\n",
    "        else:\n",
    "            if node.right is None:\n",
    "                node.right = Node(key)\n",
    "            else:\n",
    "                self._insert_recursive(node.right, key)\n",
    "\n",
    "    def print_tree(self):\n",
    "        self._print_tree_recursive(self.root, 0)\n",
    "\n",
    "    def _print_tree_recursive(self, node, level):\n",
    "        if node is not None:\n",
    "            self._print_tree_recursive(node.right, level + 1)\n",
    "            print(' ' * 4 * level + '->', node.val)\n",
    "            self._print_tree_recursive(node.left, level + 1)\n"
   ]
  },
  {
   "cell_type": "code",
   "execution_count": 2,
   "metadata": {},
   "outputs": [
    {
     "name": "stdout",
     "output_type": "stream",
     "text": [
      "ABR après insertion des clés 1, 2, 3, 4, 5:\n",
      "                -> 5\n",
      "            -> 4\n",
      "        -> 3\n",
      "    -> 2\n",
      "-> 1\n",
      "\n",
      "----------------------------------------\n",
      "\n",
      "ABR après insertion des clés 4, 2, 3, 1, 5:\n",
      "    -> 5\n",
      "-> 4\n",
      "        -> 3\n",
      "    -> 2\n",
      "        -> 1\n",
      "\n",
      "----------------------------------------\n",
      "\n",
      "ABR après insertion des clés 4, 2, 3, 5, 1:\n",
      "    -> 5\n",
      "-> 4\n",
      "        -> 3\n",
      "    -> 2\n",
      "        -> 1\n"
     ]
    }
   ],
   "source": [
    "\n",
    "def construire_abrs():\n",
    "    # Question 11.1 : Insertion des clés 1, 2, 3, 4, 5\n",
    "    bst1 = BinarySearchTree()\n",
    "    for key in [1, 2, 3, 4, 5]:\n",
    "        bst1.insert(key)\n",
    "    print(\"ABR après insertion des clés 1, 2, 3, 4, 5:\")\n",
    "    bst1.print_tree()\n",
    "\n",
    "    print(\"\\n\" + \"-\" * 40 + \"\\n\")\n",
    "\n",
    "    # Question 11.2 : Insertion des clés 4, 2, 3, 1, 5\n",
    "    bst2 = BinarySearchTree()\n",
    "    for key in [4, 2, 3, 1, 5]:\n",
    "        bst2.insert(key)\n",
    "    print(\"ABR après insertion des clés 4, 2, 3, 1, 5:\")\n",
    "    bst2.print_tree()\n",
    "\n",
    "    print(\"\\n\" + \"-\" * 40 + \"\\n\")\n",
    "\n",
    "    # Question 11.3 : Insertion des clés 4, 2, 3, 5, 1\n",
    "    bst3 = BinarySearchTree()\n",
    "    for key in [4, 2, 3, 5, 1]:\n",
    "        bst3.insert(key)\n",
    "    print(\"ABR après insertion des clés 4, 2, 3, 5, 1:\")\n",
    "    bst3.print_tree()\n",
    "\n",
    "# Exécuter la fonction\n",
    "if __name__ == \"__main__\":\n",
    "    construire_abrs()\n"
   ]
  }
 ],
 "metadata": {
  "kernelspec": {
   "display_name": "Python 3",
   "language": "python",
   "name": "python3"
  },
  "language_info": {
   "codemirror_mode": {
    "name": "ipython",
    "version": 3
   },
   "file_extension": ".py",
   "mimetype": "text/x-python",
   "name": "python",
   "nbconvert_exporter": "python",
   "pygments_lexer": "ipython3",
   "version": "3.10.6"
  }
 },
 "nbformat": 4,
 "nbformat_minor": 2
}
