{
 "cells": [
  {
   "cell_type": "markdown",
   "metadata": {},
   "source": [
    "### Permutations\n",
    "Une **permutation** est un arrangement complet de tous les éléments d'un ensemble donné. \n",
    "Le nombre de permutations d'un ensemble de $n$ éléments est donné par $n!$ (factorielle de $n$), où :\n",
    "- $n! = n \\times (n-1) \\times (n-2) \\times \\ldots \\times 1$.\n",
    "\n",
    "En d'autres termes, pour $n$ éléments, chaque élément peut occuper une position différente, ce qui donne :\n",
    "- $n$ choix pour le premier élément,\n",
    "- $(n-1)$ choix pour le deuxième élément,\n",
    "- $(n-2)$ choix pour le troisième élément, et ainsi de suite jusqu'à $1$.\n",
    "\n",
    "Le produit de ces choix est donc $n!$.\n",
    "\n",
    "## Solution\n",
    "Pour notre question, le nombre de suites de longueur $n$ contenant les $n$ entiers de $1$ à $n$ est :\n",
    "$$ n! $$\n",
    "\"\"\""
   ]
  }
 ],
 "metadata": {
  "language_info": {
   "name": "python"
  }
 },
 "nbformat": 4,
 "nbformat_minor": 2
}
