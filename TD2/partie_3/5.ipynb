{
 "cells": [
  {
   "cell_type": "markdown",
   "metadata": {},
   "source": [
    "### Question 5.1 : Interprétation combinatoire des arbres binaires\n",
    "\n",
    "Un arbre binaire est une structure récursive dans laquelle chaque nœud interne a exactement deux sous-arbres, qui peuvent être soit eux-mêmes des arbres binaires, soit des feuilles. Les feuilles sont des nœuds sans sous-arbres.\n",
    "\n",
    "La **taille d'un arbre binaire** est définie par le nombre de nœuds internes qu'il possède. Un arbre binaire avec $ n $ nœuds internes a exactement $ n + 1 $ feuilles. Le nombre total d'arbres binaires distincts avec $ n $ nœuds internes est donné par le **$ n $-ième nombre de Catalan**, noté $ C_n $, qui se calcule selon la formule :\n",
    "\n",
    "$\n",
    "\\bullet \\space C_n = \\frac{1}{n+1} \\binom{2n}{n}\n",
    "$\n",
    "\n",
    "Les nombres de Catalan comptent de nombreux objets combinatoires, dont les arbres binaires.\n"
   ]
  },
  {
   "cell_type": "markdown",
   "metadata": {},
   "source": [
    "\n",
    "### Question 5.2 : Probabilité que l'enfant gauche soit de taille $ k $\n",
    "\n",
    "Si l'on souhaite construire un arbre binaire de taille $ n $ (c'est-à-dire $ n $ nœuds internes), la probabilité que l'enfant gauche ait une taille $ k $ (avec $ k \\in \\{0, \\dots, n-1\\} $) est donnée par :\n",
    "\n",
    "$\n",
    "\\bullet \\space P(\\text{taille de l'enfant gauche} = k) = \\frac{C_k \\cdot C_{n-1-k}}{C_n}\n",
    "$\n",
    "\n",
    "où $ C_k $ est le $ k $-ième nombre de Catalan.\n",
    "\n",
    "Cette probabilité repose sur le fait que les sous-arbres gauche et droit sont eux-mêmes des arbres binaires. Le nombre d'arbres binaires avec $ k $ nœuds internes à gauche est $ C_k $, et celui avec $ n-1-k $ nœuds internes à droite est $ C_{n-1-k} $. Le produit $ C_k \\cdot C_{n-1-k} $ donne le nombre total de façons de diviser $ n $ nœuds entre les sous-arbres gauche et droit.\n"
   ]
  },
  {
   "cell_type": "markdown",
   "metadata": {},
   "source": [
    "### Question 5.3 : Calcul des nombres de Catalan\n",
    "\n",
    "Les nombres de Catalan sont une suite de nombres utilisés pour dénombrer diverses structures combinatoires, dont les arbres binaires. Ils sont définis de manière récursive par la formule :\n",
    "\n",
    "$ \n",
    "\\bullet \\space C_0 = 1\n",
    "\\newline \n",
    "$\n",
    "\n",
    "$\n",
    "\\bullet \\space C_{n+1} = \\sum_{i=0}^{n} C_i \\cdot C_{n-i}\n",
    "$\n",
    "\n",
    "Une autre formule, non récursive, pour les nombres de Catalan est :\n",
    "\n",
    "$\n",
    "\\bullet \\space C_n = \\frac{1}{n+1} \\binom{2n}{n} = \\frac{(2n)!}{(n+1)!n!}\n",
    "$\n",
    "\n",
    "Cette formule donne directement le $ n $-ième nombre de Catalan en fonction des factorielles.\n",
    "\n",
    "En combinatoire, le nombre de Catalan $ C_n $ compte le nombre d'arbres binaires distincts avec $ n $ nœuds internes.\n"
   ]
  },
  {
   "cell_type": "code",
   "execution_count": 2,
   "metadata": {},
   "outputs": [],
   "source": [
    "def nombres_de_catalan(n):\n",
    "    \"\"\"\n",
    "    Renvoie un tableau contenant les nombres de Catalan de C_0 à C_n.\n",
    "    \n",
    "    :param n: Le nombre d'éléments à calculer\n",
    "    :return: Un tableau contenant les nombres de Catalan de C_0 à C_n\n",
    "    \"\"\"\n",
    "    catalan = [0] * (n + 1)\n",
    "    catalan[0] = 1\n",
    "    \n",
    "    for i in range(1, n + 1):\n",
    "        catalan[i] = sum(catalan[j] * catalan[i - 1 - j] for j in range(i))\n",
    "    \n",
    "    return catalan\n"
   ]
  },
  {
   "cell_type": "markdown",
   "metadata": {},
   "source": [
    "### Question 5.4"
   ]
  },
  {
   "cell_type": "code",
   "execution_count": 4,
   "metadata": {},
   "outputs": [
    {
     "ename": "KeyboardInterrupt",
     "evalue": "",
     "output_type": "error",
     "traceback": [
      "\u001b[1;31m---------------------------------------------------------------------------\u001b[0m",
      "\u001b[1;31mKeyboardInterrupt\u001b[0m                         Traceback (most recent call last)",
      "Cell \u001b[1;32mIn[4], line 14\u001b[0m\n\u001b[0;32m     11\u001b[0m         n \u001b[38;5;241m+\u001b[39m\u001b[38;5;241m=\u001b[39m \u001b[38;5;241m1\u001b[39m\n\u001b[0;32m     12\u001b[0m     \u001b[38;5;28;01mreturn\u001b[39;00m n \u001b[38;5;241m-\u001b[39m \u001b[38;5;241m1\u001b[39m  \u001b[38;5;66;03m# Dernière valeur de n ayant pris moins d'une seconde\u001b[39;00m\n\u001b[1;32m---> 14\u001b[0m n_max \u001b[38;5;241m=\u001b[39m \u001b[43mmesurer_temps_max_n\u001b[49m\u001b[43m(\u001b[49m\u001b[43m)\u001b[49m\n\u001b[0;32m     15\u001b[0m \u001b[38;5;28mprint\u001b[39m(\u001b[38;5;124mf\u001b[39m\u001b[38;5;124m\"\u001b[39m\u001b[38;5;124mLa plus grande valeur de n pour laquelle le calcul des nombres de Catalan termine en moins de 1 seconde est : \u001b[39m\u001b[38;5;132;01m{\u001b[39;00mn_max\u001b[38;5;132;01m}\u001b[39;00m\u001b[38;5;124m\"\u001b[39m)\n",
      "Cell \u001b[1;32mIn[4], line 7\u001b[0m, in \u001b[0;36mmesurer_temps_max_n\u001b[1;34m()\u001b[0m\n\u001b[0;32m      5\u001b[0m \u001b[38;5;28;01mwhile\u001b[39;00m \u001b[38;5;28;01mTrue\u001b[39;00m:\n\u001b[0;32m      6\u001b[0m     debut \u001b[38;5;241m=\u001b[39m time\u001b[38;5;241m.\u001b[39mtime()\n\u001b[1;32m----> 7\u001b[0m     \u001b[43mnombres_de_catalan\u001b[49m\u001b[43m(\u001b[49m\u001b[43mn\u001b[49m\u001b[43m)\u001b[49m\n\u001b[0;32m      8\u001b[0m     fin \u001b[38;5;241m=\u001b[39m time\u001b[38;5;241m.\u001b[39mtime()\n\u001b[0;32m      9\u001b[0m     \u001b[38;5;28;01mif\u001b[39;00m fin \u001b[38;5;241m-\u001b[39m debut \u001b[38;5;241m>\u001b[39m \u001b[38;5;241m1.0\u001b[39m:\n",
      "Cell \u001b[1;32mIn[2], line 12\u001b[0m, in \u001b[0;36mnombres_de_catalan\u001b[1;34m(n)\u001b[0m\n\u001b[0;32m      9\u001b[0m catalan[\u001b[38;5;241m0\u001b[39m] \u001b[38;5;241m=\u001b[39m \u001b[38;5;241m1\u001b[39m\n\u001b[0;32m     11\u001b[0m \u001b[38;5;28;01mfor\u001b[39;00m i \u001b[38;5;129;01min\u001b[39;00m \u001b[38;5;28mrange\u001b[39m(\u001b[38;5;241m1\u001b[39m, n \u001b[38;5;241m+\u001b[39m \u001b[38;5;241m1\u001b[39m):\n\u001b[1;32m---> 12\u001b[0m     catalan[i] \u001b[38;5;241m=\u001b[39m \u001b[38;5;28;43msum\u001b[39;49m\u001b[43m(\u001b[49m\u001b[43mcatalan\u001b[49m\u001b[43m[\u001b[49m\u001b[43mj\u001b[49m\u001b[43m]\u001b[49m\u001b[43m \u001b[49m\u001b[38;5;241;43m*\u001b[39;49m\u001b[43m \u001b[49m\u001b[43mcatalan\u001b[49m\u001b[43m[\u001b[49m\u001b[43mi\u001b[49m\u001b[43m \u001b[49m\u001b[38;5;241;43m-\u001b[39;49m\u001b[43m \u001b[49m\u001b[38;5;241;43m1\u001b[39;49m\u001b[43m \u001b[49m\u001b[38;5;241;43m-\u001b[39;49m\u001b[43m \u001b[49m\u001b[43mj\u001b[49m\u001b[43m]\u001b[49m\u001b[43m \u001b[49m\u001b[38;5;28;43;01mfor\u001b[39;49;00m\u001b[43m \u001b[49m\u001b[43mj\u001b[49m\u001b[43m \u001b[49m\u001b[38;5;129;43;01min\u001b[39;49;00m\u001b[43m \u001b[49m\u001b[38;5;28;43mrange\u001b[39;49m\u001b[43m(\u001b[49m\u001b[43mi\u001b[49m\u001b[43m)\u001b[49m\u001b[43m)\u001b[49m\n\u001b[0;32m     14\u001b[0m \u001b[38;5;28;01mreturn\u001b[39;00m catalan\n",
      "Cell \u001b[1;32mIn[2], line 12\u001b[0m, in \u001b[0;36m<genexpr>\u001b[1;34m(.0)\u001b[0m\n\u001b[0;32m      9\u001b[0m catalan[\u001b[38;5;241m0\u001b[39m] \u001b[38;5;241m=\u001b[39m \u001b[38;5;241m1\u001b[39m\n\u001b[0;32m     11\u001b[0m \u001b[38;5;28;01mfor\u001b[39;00m i \u001b[38;5;129;01min\u001b[39;00m \u001b[38;5;28mrange\u001b[39m(\u001b[38;5;241m1\u001b[39m, n \u001b[38;5;241m+\u001b[39m \u001b[38;5;241m1\u001b[39m):\n\u001b[1;32m---> 12\u001b[0m     catalan[i] \u001b[38;5;241m=\u001b[39m \u001b[38;5;28msum\u001b[39m(catalan[j] \u001b[38;5;241m*\u001b[39m catalan[i \u001b[38;5;241m-\u001b[39m \u001b[38;5;241m1\u001b[39m \u001b[38;5;241m-\u001b[39m j] \u001b[38;5;28;01mfor\u001b[39;00m j \u001b[38;5;129;01min\u001b[39;00m \u001b[38;5;28mrange\u001b[39m(i))\n\u001b[0;32m     14\u001b[0m \u001b[38;5;28;01mreturn\u001b[39;00m catalan\n",
      "\u001b[1;31mKeyboardInterrupt\u001b[0m: "
     ]
    }
   ],
   "source": [
    "import time\n",
    "#  ! Faudra revoir cette fonction, aka la refaire\n",
    "def mesurer_temps_max_n():\n",
    "    n = 0\n",
    "    while True:\n",
    "        debut = time.time()\n",
    "        nombres_de_catalan(n)\n",
    "        fin = time.time()\n",
    "        if fin - debut > 1.0:\n",
    "            break\n",
    "        n += 1\n",
    "    return n - 1  # Dernière valeur de n ayant pris moins d'une seconde\n",
    "\n",
    "n_max = mesurer_temps_max_n()\n"
   ]
  },
  {
   "cell_type": "markdown",
   "metadata": {},
   "source": [
    "### Question 5.5\n"
   ]
  },
  {
   "cell_type": "code",
   "execution_count": 6,
   "metadata": {},
   "outputs": [],
   "source": [
    "import random\n",
    "\n",
    "class ArbreBinaire:\n",
    "    def __init__(self, gauche=None, droit=None):\n",
    "        self.gauche = gauche\n",
    "        self.droit = droit\n",
    "\n",
    "    def est_feuille(self):\n",
    "        return self.gauche is None and self.droit is None\n",
    "\n",
    "    def __repr__(self):\n",
    "        if self.est_feuille():\n",
    "            return \"()\"\n",
    "        return f\"({self.gauche} {self.droit})\"\n"
   ]
  },
  {
   "cell_type": "code",
   "execution_count": 8,
   "metadata": {},
   "outputs": [
    {
     "name": "stdout",
     "output_type": "stream",
     "text": [
      "(((() ()) ()) (() (() ())))\n"
     ]
    }
   ],
   "source": [
    "\n",
    "def generer_arbre_recursif(n, catalan):\n",
    "    \"\"\"\n",
    "    Génère récursivement un arbre binaire de taille n en utilisant les nombres de Catalan.\n",
    "    n: Taille de l'arbre (nombre de nœuds internes)\n",
    "    catalan: Tableau des nombres de Catalan\n",
    "    retour Un arbre binaire de taille n\n",
    "    \"\"\"\n",
    "    if n == 0:\n",
    "        return ArbreBinaire()\n",
    "    \n",
    "    # Choisir k avec la probabilité P(k) = (C_k * C_(n-1-k)) / C_n\n",
    "    total_catalan = catalan[n]\n",
    "    probabilites = [(catalan[k] * catalan[n - 1 - k]) / total_catalan for k in range(n)]\n",
    "    k = random.choices(range(n), weights=probabilites, k=1)[0]\n",
    "    \n",
    "    # Générer récursivement les sous-arbres gauche et droit\n",
    "    gauche = generer_arbre_recursif(k, catalan)\n",
    "    droit = generer_arbre_recursif(n - 1 - k, catalan)\n",
    "    \n",
    "    return ArbreBinaire(gauche, droit)\n",
    "\n",
    "# Exemple d'utilisation\n",
    "n = 5  # Taille de l'arbre\n",
    "catalan = nombres_de_catalan(n)\n",
    "arbre = generer_arbre_recursif(n, catalan)\n",
    "print(arbre)\n"
   ]
  }
 ],
 "metadata": {
  "kernelspec": {
   "display_name": "Python 3",
   "language": "python",
   "name": "python3"
  },
  "language_info": {
   "codemirror_mode": {
    "name": "ipython",
    "version": 3
   },
   "file_extension": ".py",
   "mimetype": "text/x-python",
   "name": "python",
   "nbconvert_exporter": "python",
   "pygments_lexer": "ipython3",
   "version": "3.10.11"
  }
 },
 "nbformat": 4,
 "nbformat_minor": 2
}
