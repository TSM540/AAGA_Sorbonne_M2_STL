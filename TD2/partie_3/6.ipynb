{
 "cells": [
  {
   "cell_type": "markdown",
   "metadata": {},
   "source": [
    "### Question 6.2 : Définir une fonction de unranking des arbres binaires \n",
    "\n",
    "1. **Calculer les nombres de Catalan** : Le nombre d'arbres binaires distincts de taille _n_ est donné par le nombre de Catalan, $ C_n $.\n",
    "\n",
    "2. **Décomposer l'arbre** : Un arbre binaire peut être décomposé en un sous-arbre gauche et un sous-arbre droit. Pour un arbre de taille _n_, si le sous-arbre gauche a une taille _k_, le sous-arbre droit aura une taille _n - 1 - k_.\n",
    "\n",
    "3. **Déterminer les tailles des sous-arbres** : En fonction du rang _r_, déterminer la taille _k_ du sous-arbre gauche et le rang correspondant pour les sous-arbres gauche et droit.\n",
    "\n",
    "4. **Construire l'arbre** : Récursivement, construire les sous-arbres gauche et droit en utilisant les rangs déterminés.\n"
   ]
  },
  {
   "cell_type": "code",
   "execution_count": 1,
   "metadata": {},
   "outputs": [],
   "source": [
    "from math import comb\n",
    "\n",
    "# Classe représentant un arbre binaire\n",
    "class BinaryTree:\n",
    "    def __init__(self, left=None, right=None):\n",
    "        self.left = left\n",
    "        self.right = right\n",
    "    \n",
    "    def __repr__(self):\n",
    "        if self.left is None and self.right is None:\n",
    "            return \"()\"\n",
    "        return f\"({self.left}{self.right})\"\n"
   ]
  },
  {
   "cell_type": "code",
   "execution_count": 3,
   "metadata": {},
   "outputs": [],
   "source": [
    "\n",
    "# Calcul des nombres de Catalan jusqu'à n\n",
    "# Cf Ex 5\n",
    "def catalan_numbers(n):\n",
    "    catalan = [0] * (n + 1)\n",
    "    catalan[0] = 1\n",
    "    for i in range(1, n + 1):\n",
    "        catalan[i] = 0\n",
    "        for j in range(i):\n",
    "            catalan[i] += catalan[j] * catalan[i - 1 - j]\n",
    "    return catalan\n"
   ]
  },
  {
   "cell_type": "code",
   "execution_count": 5,
   "metadata": {},
   "outputs": [],
   "source": [
    "\n",
    "# Fonction de unranking\n",
    "def unrank_binary_tree(n, r, catalan=None):\n",
    "    if catalan is None:\n",
    "        catalan = catalan_numbers(n)\n",
    "    if n == 0:\n",
    "        return None  # Arbre vide\n",
    "    if n == 1:\n",
    "        return BinaryTree()\n",
    "    total = 0\n",
    "    for left_size in range(n):\n",
    "        left_count = catalan[left_size]\n",
    "        right_size = n - 1 - left_size\n",
    "        right_count = catalan[right_size]\n",
    "        count = left_count * right_count\n",
    "        if total + count > r:\n",
    "            # Le rang se trouve dans cette partition\n",
    "            r_local = r - total\n",
    "            left_rank = r_local // right_count\n",
    "            right_rank = r_local % right_count\n",
    "            left_subtree = unrank_binary_tree(left_size, left_rank, catalan)\n",
    "            right_subtree = unrank_binary_tree(right_size, right_rank, catalan)\n",
    "            return BinaryTree(left_subtree, right_subtree)\n",
    "        total += count\n",
    "    raise ValueError(\"Rang hors limite\")\n"
   ]
  },
  {
   "cell_type": "code",
   "execution_count": 6,
   "metadata": {},
   "outputs": [
    {
     "name": "stdout",
     "output_type": "stream",
     "text": [
      "Nombre d'arbres binaires de taille 3 : 5\n",
      "\n",
      "Rang 0 : (Ø(Ø(ØØ)))\n",
      "Rang 1 : (Ø((ØØ)Ø))\n",
      "Rang 2 : ((ØØ)(ØØ))\n",
      "Rang 3 : ((Ø(ØØ))Ø)\n",
      "Rang 4 : (((ØØ)Ø)Ø)\n"
     ]
    }
   ],
   "source": [
    "\n",
    "# Fonction pour afficher l'arbre\n",
    "def print_tree(tree):\n",
    "    if tree is None:\n",
    "        return \"Ø\"\n",
    "    return f\"({print_tree(tree.left)}{print_tree(tree.right)})\"\n",
    "\n",
    "# Exemple d'utilisation\n",
    "if __name__ == \"__main__\":\n",
    "    n = 3\n",
    "    catalan = catalan_numbers(n)\n",
    "    total_trees = catalan[n]\n",
    "    print(f\"Nombre d'arbres binaires de taille {n} : {total_trees}\\n\")\n",
    "    for r in range(total_trees):\n",
    "        tree = unrank_binary_tree(n, r, catalan)\n",
    "        print(f\"Rang {r} : {print_tree(tree)}\")\n"
   ]
  }
 ],
 "metadata": {
  "kernelspec": {
   "display_name": "Python 3",
   "language": "python",
   "name": "python3"
  },
  "language_info": {
   "codemirror_mode": {
    "name": "ipython",
    "version": 3
   },
   "file_extension": ".py",
   "mimetype": "text/x-python",
   "name": "python",
   "nbconvert_exporter": "python",
   "pygments_lexer": "ipython3",
   "version": "3.10.11"
  }
 },
 "nbformat": 4,
 "nbformat_minor": 2
}
